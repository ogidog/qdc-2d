{
 "cells": [
  {
   "cell_type": "code",
   "execution_count": 3,
   "id": "0349dc90",
   "metadata": {},
   "outputs": [],
   "source": [
    "from main import main"
   ]
  },
  {
   "cell_type": "code",
   "execution_count": 4,
   "id": "854842ef",
   "metadata": {
    "pycharm": {
     "name": "#%%\n"
    }
   },
   "outputs": [
    {
     "name": "stdout",
     "output_type": "stream",
     "text": [
      "STEP 3 : Analyse jointset\n",
      "Analyse with linear scanline\n",
      "\n"
     ]
    },
    {
     "ename": "TypeError",
     "evalue": "cannot unpack non-iterable NoneType object",
     "output_type": "error",
     "traceback": [
      "\u001B[1;31m---------------------------------------------------------------------------\u001B[0m",
      "\u001B[1;31mTypeError\u001B[0m                                 Traceback (most recent call last)",
      "Input \u001B[1;32mIn [4]\u001B[0m, in \u001B[0;36m<cell line: 2>\u001B[1;34m()\u001B[0m\n\u001B[0;32m      1\u001B[0m template_file \u001B[38;5;241m=\u001B[39m \u001B[38;5;124m\"\u001B[39m\u001B[38;5;124mTEMPLATE.TXT\u001B[39m\u001B[38;5;124m\"\u001B[39m\n\u001B[1;32m----> 2\u001B[0m \u001B[43mmain\u001B[49m\u001B[43m(\u001B[49m\u001B[43mtemplate_file\u001B[49m\u001B[43m)\u001B[49m\n",
      "File \u001B[1;32mD:\\intellij-idea-workspace\\qdc-2d\\main.py:108\u001B[0m, in \u001B[0;36mmain\u001B[1;34m(template_file)\u001B[0m\n\u001B[0;32m    106\u001B[0m \u001B[38;5;28;01melif\u001B[39;00m template[\u001B[38;5;124m'\u001B[39m\u001B[38;5;124mMETHOD\u001B[39m\u001B[38;5;124m'\u001B[39m] \u001B[38;5;241m==\u001B[39m \u001B[38;5;124m\"\u001B[39m\u001B[38;5;124mlinear\u001B[39m\u001B[38;5;124m\"\u001B[39m:\n\u001B[0;32m    107\u001B[0m     \u001B[38;5;28mprint\u001B[39m(\u001B[38;5;124m'\u001B[39m\u001B[38;5;124mAnalyse with linear scanline\u001B[39m\u001B[38;5;124m'\u001B[39m)\n\u001B[1;32m--> 108\u001B[0m     \u001B[43mrun_linear\u001B[49m\u001B[43m(\u001B[49m\u001B[43mtemplate\u001B[49m\u001B[43m)\u001B[49m\n\u001B[0;32m    109\u001B[0m \u001B[38;5;28;01melif\u001B[39;00m template[\u001B[38;5;124m'\u001B[39m\u001B[38;5;124mMETHOD\u001B[39m\u001B[38;5;124m'\u001B[39m] \u001B[38;5;241m==\u001B[39m \u001B[38;5;124m\"\u001B[39m\u001B[38;5;124mpersistence\u001B[39m\u001B[38;5;124m\"\u001B[39m:\n\u001B[0;32m    110\u001B[0m     \u001B[38;5;28mprint\u001B[39m(\u001B[38;5;124m'\u001B[39m\u001B[38;5;124mAnalyse the persistence\u001B[39m\u001B[38;5;124m'\u001B[39m)\n",
      "File \u001B[1;32mD:\\intellij-idea-workspace\\qdc-2d\\TEMPLATES\\run_function\\run_linear.py:26\u001B[0m, in \u001B[0;36mrun_linear\u001B[1;34m(template)\u001B[0m\n\u001B[0;32m     22\u001B[0m nodes[\u001B[38;5;124m'\u001B[39m\u001B[38;5;124msynthetic\u001B[39m\u001B[38;5;124m'\u001B[39m] \u001B[38;5;241m=\u001B[39m template[\u001B[38;5;124m'\u001B[39m\u001B[38;5;124mSYNTHETIC\u001B[39m\u001B[38;5;124m'\u001B[39m]\n\u001B[0;32m     24\u001B[0m info_scanline[\u001B[38;5;124m'\u001B[39m\u001B[38;5;124mnbScan\u001B[39m\u001B[38;5;124m'\u001B[39m] \u001B[38;5;241m=\u001B[39m \u001B[38;5;241m30\u001B[39m\n\u001B[1;32m---> 26\u001B[0m [_, spacing_real, THETA] \u001B[38;5;241m=\u001B[39m linearScanline(nodes, info_scanline)\n\u001B[0;32m     27\u001B[0m \u001B[38;5;28mprint\u001B[39m(\u001B[38;5;124m\"\u001B[39m\u001B[38;5;130;01m\\n\u001B[39;00m\u001B[38;5;124mReal spacing : \u001B[39m\u001B[38;5;132;01m{}\u001B[39;00m\u001B[38;5;130;01m\\n\u001B[39;00m\u001B[38;5;124m\"\u001B[39m\u001B[38;5;241m.\u001B[39mformat(np\u001B[38;5;241m.\u001B[39mmean(spacing_real)))\n\u001B[0;32m     28\u001B[0m \u001B[38;5;28mprint\u001B[39m(\u001B[38;5;124m\"\u001B[39m\u001B[38;5;130;01m\\n\u001B[39;00m\u001B[38;5;124mMean orientation : \u001B[39m\u001B[38;5;132;01m{}\u001B[39;00m\u001B[38;5;130;01m\\n\u001B[39;00m\u001B[38;5;124m\"\u001B[39m\u001B[38;5;241m.\u001B[39mformat(np\u001B[38;5;241m.\u001B[39mmean(np\u001B[38;5;241m.\u001B[39mrad2deg(THETA))))\n",
      "\u001B[1;31mTypeError\u001B[0m: cannot unpack non-iterable NoneType object"
     ]
    }
   ],
   "source": [
    "template_file = \"TEMPLATE.TXT\"\n",
    "main(template_file)"
   ]
  }
 ],
 "metadata": {
  "kernelspec": {
   "display_name": "Python 3 (ipykernel)",
   "language": "python",
   "name": "python3"
  },
  "language_info": {
   "codemirror_mode": {
    "name": "ipython",
    "version": 3
   },
   "file_extension": ".py",
   "mimetype": "text/x-python",
   "name": "python",
   "nbconvert_exporter": "python",
   "pygments_lexer": "ipython3",
   "version": "3.9.5"
  }
 },
 "nbformat": 4,
 "nbformat_minor": 5
}